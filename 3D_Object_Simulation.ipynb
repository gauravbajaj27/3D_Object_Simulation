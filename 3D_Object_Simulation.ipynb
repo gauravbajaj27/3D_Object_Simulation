{
 "cells": [
  {
   "cell_type": "code",
   "execution_count": 1,
   "metadata": {},
   "outputs": [
    {
     "name": "stdout",
     "output_type": "stream",
     "text": [
      "pygame 1.9.6\n",
      "Hello from the pygame community. https://www.pygame.org/contribute.html\n"
     ]
    }
   ],
   "source": [
    "# Importing different things needed for displaying objects or making the system wait or for clearing the \n",
    "# output or exiting and np need for cos, sine operations along with pi in rotation operations\n",
    "from IPython.display import clear_output\n",
    "import time\n",
    "import pygame\n",
    "from numpy import cos, sin, pi\n",
    "from sys import exit\n",
    "import OpenGL\n",
    "from pygame.locals import *\n",
    "from OpenGL.GL import *\n",
    "from OpenGL.GLU import *\n",
    "import numpy as np"
   ]
  },
  {
   "cell_type": "markdown",
   "metadata": {},
   "source": [
    "# A function to exit the program"
   ]
  },
  {
   "cell_type": "code",
   "execution_count": 2,
   "metadata": {},
   "outputs": [],
   "source": [
    "def exit_program():\n",
    "    print(\"We hope you liked our program and we wish to see you soon. Have a nice day!\")"
   ]
  },
  {
   "cell_type": "markdown",
   "metadata": {},
   "source": [
    "# Welcome Screen"
   ]
  },
  {
   "cell_type": "code",
   "execution_count": 3,
   "metadata": {},
   "outputs": [],
   "source": [
    "def gui():\n",
    "    while (True):\n",
    "        clear_output()\n",
    "        intro_para = \"\"\"Welcome to our project of simulation of movement 3D objects with the help of Homogenous coordinates\n",
    "        1. Let's Play\n",
    "        2. Exit\n",
    "        \n",
    "        Enter your choice: \"\"\"\n",
    "        option = int(input(intro_para))\n",
    "        if option == 1:\n",
    "            #Get object type from user by calling object_choice\n",
    "            object_type = object_choice()\n",
    "            clear_output()\n",
    "            if object_type != 0:\n",
    "                #Displaying operations upon object\n",
    "                obj_operation = object_operations(object_type)\n",
    "        elif option == 2:\n",
    "            exit_program()\n",
    "            break\n",
    "        else:\n",
    "            print (\"Please select a correct option !\")\n",
    "            time.sleep(2)"
   ]
  },
  {
   "cell_type": "markdown",
   "metadata": {},
   "source": [
    "# Giving different choices of 3D object for the user to play with"
   ]
  },
  {
   "cell_type": "code",
   "execution_count": 4,
   "metadata": {},
   "outputs": [],
   "source": [
    "def object_choice():\n",
    "    while (True):\n",
    "        clear_output()\n",
    "        para_3d = \"\"\"Select the 3D object you want to play with-\n",
    "        0. To go back to gui\n",
    "        1. Cube\n",
    "        2. Cuboid\n",
    "        3. Pyramid\"\"\"\n",
    "        print(para_3d)\n",
    "        #Getting object type from the user\n",
    "        object_3d = int(input(\"Enter your choice - \"))\n",
    "        if object_3d in [0,1,2,3]:\n",
    "            return object_3d              #Returning Object type to gui()\n",
    "        else:\n",
    "            print (\"Please select a correct option !\")\n",
    "            time.sleep(2)"
   ]
  },
  {
   "cell_type": "markdown",
   "metadata": {},
   "source": [
    "# Printing Instructions and getting object's measurements"
   ]
  },
  {
   "cell_type": "code",
   "execution_count": 5,
   "metadata": {},
   "outputs": [],
   "source": [
    "def object_operations(object_type):\n",
    "    objects_3d = [\"Cube\", \"Cuboid\",\"Pyramid\"] #Default Values for various objects\n",
    "    default_values = [1.0, 0.5, 1.0, 2.0]\n",
    "    para_opns3D = f\"\"\"Here you can see that below is the given list of operations that you can perform on your\n",
    "{objects_3d[object_type - 1]} , Note Default values can be changed by you:\n",
    "    0. Enter 0 to go back to gui\n",
    "    1. Else press 1 to start and below are the commands you can do\n",
    "    a. Rotation by rotation angle {default_values[0]} degree(Defualt) in respective directions\n",
    "        \"I\" - Rotated in X direction\n",
    "        \"J\" - Rotated in Y direction\n",
    "        \"K\" - Rotated in Z direction\n",
    "    b. Mirroring relative to respective planes\n",
    "        \"F\" - Reflection relative to XY plane\n",
    "        \"G\" - Reflection relative to YZ plane\n",
    "        \"H\" - Reflection relative to ZX plane\n",
    "    c. Translation by {default_values[1]} units(Default) in respective directions\n",
    "        \"A\" - Translate left\n",
    "        \"D\" - Translate right\n",
    "        \"W\" - Translate up\n",
    "        \"S\" - Translate Down\n",
    "        \"Mouse Wheel Down\" - Translate Back\n",
    "        \"Mouse Wheel Up\" - Translate Forward\n",
    "    d. Shearing by shearing factor {default_values[2]} (default)\n",
    "        \"B\" - Sheared in X direction\n",
    "        \"N\" - Sheared in Y direction\n",
    "        \"M\" - Sheared in Z direction\n",
    "    e. Scaling by scaling factor {default_values[3]} (default)\n",
    "        \"X\" - Scaled in X direction\n",
    "        \"Y\" - Scaled in Y direction\n",
    "        \"Z\" - Scaled in Z direction\n",
    "    f. Restore your object to original co-ordinates by pressing R\n",
    "    g. Undo the latest transformation by pressing U\n",
    "    h. See SVD in real-time by pressing Q key\n",
    "    i. \"ESCAPE\"- Exit \"\"\"\n",
    "    \n",
    "    #Printing Operations and default values\n",
    "    print(para_opns3D)\n",
    "    opns_3d = int(input(\"Enter 1 to start the program or 0 if you want to go back to gui- \")) \n",
    "    if (opns_3d == 0):\n",
    "        clear_output()\n",
    "        gui()\n",
    "    elif (opns_3d == 1):\n",
    "        changes = int(input(\"If fine with default values then press 0 else press 1 to select values- \"))\n",
    "        if changes == 1:     #Getting Default values from the user\n",
    "            theta = -360.0\n",
    "            while theta > 360.0 or theta <= -360.0:\n",
    "                theta = float(input(\"Please enter rotation angle (-360,360]- \"))\n",
    "            translation_unit = 31.0\n",
    "            while translation_unit > 30.0 or translation_unit <= 0.0:\n",
    "                translation_unit = float(input(\"Please enter number which determines your translation (0,30]- \"))\n",
    "            scaling_factor = 101.0\n",
    "            while scaling_factor > 100.0 or scaling_factor <= 0.0:\n",
    "                scaling_factor = float(input(\"Please enter a Scaling factor (0,100]- \"))\n",
    "            shearing_factor = 11.0\n",
    "            while shearing_factor > 10.0 or shearing_factor <= 0.0:\n",
    "                shearing_factor = float(input(\"Please enter a Shearing factor (0,10]- \"))\n",
    "            \n",
    "            #Changing the default values as per the user\n",
    "            default_values[0] = theta\n",
    "            default_values[1] = translation_unit\n",
    "            default_values[3] = scaling_factor\n",
    "            default_values[2] = shearing_factor\n",
    "        if object_type in [1,2]:    #For cube and cuboid\n",
    "            clear_output()\n",
    "            # Here cube is just a special case of cuboid so it doesn't make sense to make a diff function\n",
    "            # for cube as to user it will make no difference.\n",
    "            cuboid_opns(object_type, objects_3d[object_type - 1], default_values)\n",
    "        elif object_type == 3:     #For Pyramid\n",
    "            pyramid_opns(object_type, objects_3d[object_type - 1], default_values)\n"
   ]
  },
  {
   "cell_type": "markdown",
   "metadata": {},
   "source": [
    "# Prints Keys for various Operations"
   ]
  },
  {
   "cell_type": "code",
   "execution_count": 6,
   "metadata": {},
   "outputs": [],
   "source": [
    "def commands(object_name, default_values):\n",
    "        command_keys = f\"\"\"\n",
    "        1. The commands you can do on your {object_name} are \n",
    "        a. Rotation by rotation angle {default_values[0]} degrees in respective directions\n",
    "            \"I\" - Rotated in X direction\n",
    "            \"J\" - Rotated in Y direction\n",
    "            \"K\" - Rotated in Z direction\n",
    "        b. Mirroring relative to respective planes\n",
    "            \"F\" - Reflection relative to XY plane\n",
    "            \"G\" - Reflection relative to YZ plane\n",
    "            \"H\" - Reflection relative to ZX plane\n",
    "        c. Translation by {default_values[1]} units in respective directions\n",
    "            \"A\" - Translate left\n",
    "            \"D\" - Translate right\n",
    "            \"W\" - Translate up\n",
    "            \"S\" - Translate Down\n",
    "            \"Mouse Wheel Down\" - Translate Back\n",
    "            \"Mouse Wheel Up\" - Translate Forward\n",
    "        d. Shearing by shearing factor {default_values[2]}\n",
    "            \"B\" - Sheared in X direction\n",
    "            \"N\" - Sheared in Y direction\n",
    "            \"M\" - Sheared in Z direction\n",
    "        e. Scaling by scaling factor {default_values[3]}\n",
    "            \"X\" - Scaled in X direction\n",
    "            \"Y\" - Scaled in Y direction\n",
    "            \"Z\" - Scaled in Z direction\n",
    "        f. Restore your object to original co-ordinates by pressing R\n",
    "        g. Undo the latest transformation by pressing U\n",
    "        h. See SVD in real-time by pressing Q key\n",
    "        i. \"ESCAPE\"- Exit \"\"\"\n",
    "        print(command_keys)"
   ]
  },
  {
   "cell_type": "markdown",
   "metadata": {},
   "source": [
    "# Inputs Object's measurements from the user"
   ]
  },
  {
   "cell_type": "code",
   "execution_count": 7,
   "metadata": {},
   "outputs": [],
   "source": [
    "def GetVertices(figNo, object_name):\n",
    "    a, b, c = input(f\"Enter one of the vertices of {object_name}:\").split()\n",
    "    a = float(a)\n",
    "    b = float(b)\n",
    "    c = float(c)\n",
    "    clear_output()\n",
    "    if figNo == 2:      #For Cuboid\n",
    "        L = float(input(f\"Enter length of your {object_name}: \"))\n",
    "        B = float(input(f\"Enter breadth of your {object_name}: \"))\n",
    "        H = float(input(f\"Enter height of your {object_name}: \"))\n",
    "    elif figNo == 1:    #For Cube\n",
    "        L = float(input(f\"Enter length of your {object_name}: \"))\n",
    "        B = H = L       #For Cube, all the 3 measurements are same\n",
    "    elif figNo == 3:    #For Pyramid\n",
    "        length = float(input(f\"Enter the length of the base of your {object_name}: \"))\n",
    "        height = float(input(f\"Enter the height of the {object_name}: \"))\n",
    "    \n",
    "    #Forming vertices from user's input of object\n",
    "    vertices = list()\n",
    "    if figNo in [1,2]:      #For Cube and Cuboid\n",
    "        vertex0 = [a, b, c, 1]\n",
    "        vertex1 = [a, b - B, c, 1]\n",
    "        vertex2 = [a + L, b - B, c, 1]\n",
    "        vertex3 = [a + L, b, c, 1]\n",
    "        vertex4 = [a, b, c - H, 1]\n",
    "        vertex5 = [a, b - B, c - H, 1]\n",
    "        vertex6 = [a + L, b, c - H, 1]\n",
    "        vertex7 = [a + L, b - B, c - H, 1]\n",
    "        vertices = [vertex0, vertex1, vertex2, vertex3, vertex4, vertex5, vertex6, vertex7]\n",
    "    elif figNo == 3:       #For Pyramid\n",
    "        vertex0 = [a,b,c,1]\n",
    "        vertex1 = [a+length, b,c,1]\n",
    "        vertex2 = [a+length, b+length, c,1]\n",
    "        vertex3 = [a, b+length, c,1]\n",
    "        vertex4 = [a+(length/2), b+(length/2), c+height, 1]\n",
    "        vertices = [vertex0, vertex1, vertex2, vertex3, vertex4]\n",
    "    clear_output()\n",
    "    return vertices\n",
    "\n"
   ]
  },
  {
   "cell_type": "markdown",
   "metadata": {},
   "source": [
    "# Matrices used for linear transformation\n",
    "\n",
    "Translation matrix = $\\begin{pmatrix} 1 & 0 & 0 & tx\\\\ 0 & 1 & 0 & ty\\\\ 0 & 0 & 1 & tz\\\\ 0 & 0 & 0 & 1 \\end{pmatrix}$\n",
    "\n",
    "\n",
    "Shearing Matrix w.r.t X axis=$\\begin{pmatrix} 1 & 0 & 0 & 0\\\\ shy & 1 & 0 & 0\\\\ shz & 0 & 1 & 0\\\\ 0 & 0 & 0 & 1 \\end{pmatrix}$ \n",
    "\n",
    "\n",
    "Shearing Matrix w.r.t Y-axis=$\\begin{pmatrix} 1 & shx & 0 & 0\\\\ 0 & 1 & 0 & 0\\\\ 0 & shz & 1 & 0\\\\ 0 & 0 & 0 & 1 \\end{pmatrix}$ \n",
    "\n",
    "\n",
    "Shearing Matrix w.r.t Z-axis=$\\begin{pmatrix} 1 & 0 & shx & 0\\\\ 0 & 1 & shy & 0\\\\ 0 & 0 & 1 & 0\\\\ 0 & 0 & 0 & 1 \\end{pmatrix}$ \n",
    "\n",
    "\n",
    "Rotation matrix w.r.t X-axis = $\\begin{pmatrix} 1 & 0 & 0 & 0\\\\ 0 & cos(\\theta) & -sin(\\theta) & 0\\\\ 0 & sin(\\theta) & cos(\\theta) & 0\\\\ 0 & 0 & 0 & 1 \\end{pmatrix}$\n",
    "\n",
    "Rotation matrix w.r.t Y-axis = $\\begin{pmatrix} cos(\\theta) & 0 & sin(\\theta) & 0\\\\ 0 & 1 & 0 & 0\\\\ -sin(\\theta) & 0 & cos(\\theta) & 0\\\\ 0 & 0 & 0 & 1 \\end{pmatrix}$\n",
    "\n",
    "Rotation matrix w.r.t Z axis = $\\begin{pmatrix} cos(\\theta) & -sin(\\theta) & 0 & 0\\\\ sin(\\theta) & cos(\\theta) & 0 & 0\\\\ 0 & 0 & 1 & 0\\\\ 0 & 0 & 0 & 1 \\end{pmatrix}$\n",
    "\n",
    "Scaling Matrix= $\\begin{pmatrix} Sx & 0 & 0 & 0\\\\ 0 & Sy & 0 & 0\\\\ 0 & 0 & Sz & 0\\\\ 0 & 0 & 0 & 1 \\end{pmatrix}$\n",
    "\n",
    "\n",
    "Mirroring (w.r.t to YZ-Plane) Matrix= $\\begin{pmatrix} -1 & 0 & 0 & 0\\\\ 0 & 1 & 0 & 0\\\\ 0 & 0 & 1 & 0\\\\ 0 & 0 & 0 & 1 \\end{pmatrix}$\n",
    "\n",
    "Mirroring (w.r.t to XY-Plane) Matrix= $\\begin{pmatrix} 1 & 0 & 0 & 0\\\\ 0 & 1 & 0 & 0\\\\ 0 & 0 & -1 & 0\\\\ 0 & 0 & 0 & 1 \\end{pmatrix}$\n",
    "\n",
    "Mirroring (w.r.t to XZ-Plane) Matrix= $\\begin{pmatrix} 1 & 0 & 0 & 0\\\\ 0 & 1 & 0 & 0\\\\ 0 & 0 & -1 & 0\\\\ 0 & 0 & 0 & 1 \\end{pmatrix}$"
   ]
  },
  {
   "cell_type": "markdown",
   "metadata": {},
   "source": [
    "# For reverting previous operations"
   ]
  },
  {
   "cell_type": "code",
   "execution_count": 8,
   "metadata": {},
   "outputs": [],
   "source": [
    "def undo(counter, functions, vertices):\n",
    "    counter = len(functions)\n",
    "    if counter > 1:     #Checks if there are some operations in the history stack\n",
    "        inv_functions = Inverse(functions[counter-1])      #Inverse of the latest linear transformation matrix\n",
    "        functions.pop(counter-1)\n",
    "        for i in range(len(vertices)):\n",
    "            vertices[i] = MultiplyMatrixCol(inv_functions,vertices[i])\n",
    "    else:\n",
    "        print(\"No more Undo operations can be done\")"
   ]
  },
  {
   "cell_type": "markdown",
   "metadata": {},
   "source": [
    "# Performing Elementary Row Operations"
   ]
  },
  {
   "cell_type": "code",
   "execution_count": 9,
   "metadata": {},
   "outputs": [],
   "source": [
    "def elimination(row1, row2, column, aim = 0):\n",
    "    # For doing row operation\n",
    "    factor = (row2[column]-aim) / row1[column]       #Reducing to 0 if it is a non-pivot, else 1\n",
    "    for i in range(len(row2)):\n",
    "        row2[i] -= factor * row1[i]"
   ]
  },
  {
   "cell_type": "markdown",
   "metadata": {},
   "source": [
    "# Gaussian Elimination"
   ]
  },
  {
   "cell_type": "code",
   "execution_count": 10,
   "metadata": {},
   "outputs": [],
   "source": [
    "def gauss_elim(mat):\n",
    "    # For doing gaussian elimination of a matrix\n",
    "    for i in range(len(mat)):\n",
    "        if mat[i][i] == 0:\n",
    "            for j in range(i+1, len(mat)):\n",
    "                if mat[i][j] != 0:\n",
    "                    mat[i], mat[j] = mat[j], mat[i]\n",
    "                    break\n",
    "                # No else condition required as the matrix we'll finding would be square and of full rank\n",
    "        for j in range(i+1, len(mat)):\n",
    "            elimination(mat[i], mat[j], i)\n",
    "    for i in range(len(mat)-1, -1, -1):\n",
    "        for j in range(i-1, -1, -1):\n",
    "            elimination(mat[i], mat[j], i)\n",
    "    for i in range(len(mat)):\n",
    "        elimination(mat[i], mat[i], i, aim = 1)\n",
    "    return mat"
   ]
  },
  {
   "cell_type": "code",
   "execution_count": 11,
   "metadata": {},
   "outputs": [],
   "source": [
    "def Inverse(mat):\n",
    "    # This will give us inverse of the transformation that will be required for undo\n",
    "    temp = [[] for i in range(len(mat))]\n",
    "    i = 0\n",
    "    for rows in mat:\n",
    "        assert len(rows) == len(mat)\n",
    "        temp[i].extend(rows + [0]*i + [1] + [0]*(len(mat)-i-1))\n",
    "        i += 1\n",
    "    # Doing gaussian elimination of the matrix\n",
    "    gauss_elim(temp)\n",
    "    # Finally calculating inverse of the transformation given\n",
    "    inverse_mat = list()\n",
    "    for i in range(len(temp)):\n",
    "        inverse_mat.append(temp[i][int(len(temp[i])/2):])\n",
    "    return inverse_mat"
   ]
  },
  {
   "cell_type": "markdown",
   "metadata": {},
   "source": [
    "# Rendering different objects"
   ]
  },
  {
   "cell_type": "code",
   "execution_count": 12,
   "metadata": {},
   "outputs": [],
   "source": [
    "def Object(edges, vertices, figNo):\n",
    "    glBegin(GL_LINES)\n",
    "    for edge in edges:\n",
    "        for vertex in edge:\n",
    "            glVertex4fv(vertices[vertex]) #Displays a line on the screen between the two vertex in an element of the edges list\n",
    "    glEnd()"
   ]
  },
  {
   "cell_type": "markdown",
   "metadata": {},
   "source": [
    "# Matrix Multiplication"
   ]
  },
  {
   "cell_type": "code",
   "execution_count": 13,
   "metadata": {},
   "outputs": [],
   "source": [
    "def matrixmult(m1,m2):\n",
    "    # For multiplication of two matrices\n",
    "    m1_dot_m2 = [[0,0,0,0],\n",
    "             [0,0,0,0],\n",
    "             [0,0,0,0],\n",
    "             [0,0,0,0]]\n",
    "    # going throught m1 rows\n",
    "    for i in range(len(m1)):\n",
    "       # going throught m2 cols\n",
    "        for j in range(len(m2[0])):\n",
    "           # going throught m2 rows\n",
    "           for k in range(len(m2)):\n",
    "                m1_dot_m2[i][j] += m1[i][k] * m2[k][j]\n",
    "    return m1_dot_m2"
   ]
  },
  {
   "cell_type": "code",
   "execution_count": 14,
   "metadata": {},
   "outputs": [],
   "source": [
    "def MultiplyMatrixCol(X,Y):\n",
    "    # For multiplication of linear transformation and vertices of an object\n",
    "    result = list()\n",
    "    for row in X:\n",
    "        sum = 0\n",
    "        for i in range(len(Y)):\n",
    "            sum += row[i]*Y[i]\n",
    "        result.append(sum)\n",
    "    return result"
   ]
  },
  {
   "cell_type": "code",
   "execution_count": 15,
   "metadata": {},
   "outputs": [],
   "source": [
    "def svd(matrix, vertices, counter, functions):\n",
    "    m1 = [\n",
    "        [1,0,0,0],\n",
    "        [1,1,0,0],\n",
    "        [1,0,1,0],\n",
    "        [0,0,0,1]\n",
    "        ]\n",
    "    m2 = [\n",
    "        [1,0,0,0],\n",
    "        [0,-1,0,0],\n",
    "        [0,0,1,0],\n",
    "        [0,0,0,1]\n",
    "        ]\n",
    "    A = matrixmult(m1,m2)\n",
    "    \n",
    "    U,S,V_t = np.linalg.svd(A)\n",
    "    V_t = V_t.tolist()\n",
    "    S = S.tolist()\n",
    "    U = U.tolist()\n",
    "    if matrix == \"V_t\":\n",
    "        for i in range(len(vertices)):\n",
    "            vertices[i] = MultiplyMatrixCol(V_t,vertices[i])\n",
    "    if matrix == \"S\":\n",
    "        for i in range(len(vertices)): \n",
    "            vertices[i] = MultiplyMatrixCol(np.diag(S),vertices[i])         \n",
    "    if matrix == \"U\":\n",
    "        for i in range(len(vertices)):\n",
    "            vertices[i] = MultiplyMatrixCol(U,vertices[i])\n",
    "        functions.append(A)"
   ]
  },
  {
   "cell_type": "markdown",
   "metadata": {},
   "source": [
    "# Shearing"
   ]
  },
  {
   "cell_type": "code",
   "execution_count": 16,
   "metadata": {},
   "outputs": [],
   "source": [
    "def Shear(axis, shx, shy, shz, vertices, counter, functions):\n",
    "    \n",
    "    # If the object to be sheared in X axis\n",
    "    if axis == \"X\":\n",
    "        shearing_matrix = [\n",
    "            [1,0,0,0],\n",
    "            [shy,1,0,0],\n",
    "            [shz,0,1,0],\n",
    "            [0,0,0,1]\n",
    "        ]\n",
    "    # If object to be sheared in Y axis\n",
    "    if axis == \"Y\":\n",
    "        shearing_matrix = [\n",
    "            [1,shx,0,0],\n",
    "            [0,1,0,0],\n",
    "            [0,shz,1,0],\n",
    "            [0,0,0,1]\n",
    "        ]\n",
    "    # If object to be sheared in Y axis\n",
    "    if axis == \"Z\":\n",
    "        shearing_matrix = [\n",
    "            [1,0,shx,0],\n",
    "            [0,1,shy,0],\n",
    "            [0,0,1,0],\n",
    "            [0,0,0,1]\n",
    "        ]\n",
    "    # Keeping track of functions for doing undo of these transformations\n",
    "    functions.append(shearing_matrix)\n",
    "    for i in range(len(vertices)):\n",
    "        vertices[i] = MultiplyMatrixCol(shearing_matrix,vertices[i]) #Transforming Each point in the space"
   ]
  },
  {
   "cell_type": "markdown",
   "metadata": {},
   "source": [
    "# Mirroring [along the coordinate-axis planes]"
   ]
  },
  {
   "cell_type": "code",
   "execution_count": 17,
   "metadata": {},
   "outputs": [],
   "source": [
    "def Mirror(plane, vertices, counter, functions):\n",
    "        \n",
    "    # Reflection relative to XY plane        \n",
    "    if plane == \"XY\":\n",
    "        mirroring_matrix = [\n",
    "            [1,0,0,0],\n",
    "            [0,1,0,0],\n",
    "            [0,0,-1,0],\n",
    "            [0,0,0,1]\n",
    "        ]\n",
    "    # Reflection relative to YZ plane\n",
    "    if plane == \"YZ\":\n",
    "        mirroring_matrix = [\n",
    "            [-1,0,0,0],\n",
    "            [0,1,0,0],\n",
    "            [0,0,1,0],\n",
    "            [0,0,0,1]\n",
    "        ]\n",
    "    # Reflection relative to ZX plane\n",
    "    if plane == \"ZX\":\n",
    "        mirroring_matrix = [\n",
    "            [1,0,0,0],\n",
    "            [0,-1,0,0],\n",
    "            [0,0,1,0],\n",
    "            [0,0,0,1]\n",
    "        ]\n",
    "    # Keeping track of functions for doing undo of these transformations\n",
    "    functions.append(mirroring_matrix)\n",
    "    for i in range(len(vertices)):\n",
    "        vertices[i] = MultiplyMatrixCol(mirroring_matrix,vertices[i])       #Transforming Each point in the space"
   ]
  },
  {
   "cell_type": "markdown",
   "metadata": {},
   "source": [
    "# Scaling [along the coordinate axis]"
   ]
  },
  {
   "cell_type": "code",
   "execution_count": 18,
   "metadata": {},
   "outputs": [],
   "source": [
    "def Scale(sx, sy, sz, vertices, counter, functions):\n",
    "    scaling_matrix = [\n",
    "        [sx,0,0,0],\n",
    "        [0,sy,0,0],\n",
    "        [0,0,sz,0],\n",
    "        [0,0,0,1]\n",
    "    ]\n",
    "    # Keeping track of functions for doing undo of these transformations\n",
    "    functions.append(scaling_matrix)\n",
    "    for i in range(len(vertices)):\n",
    "        vertices[i] = MultiplyMatrixCol(scaling_matrix,vertices[i])       #Transforming Each point in the space"
   ]
  },
  {
   "cell_type": "markdown",
   "metadata": {},
   "source": [
    "# Rotating [about the coordinate axis]"
   ]
  },
  {
   "cell_type": "code",
   "execution_count": 19,
   "metadata": {},
   "outputs": [],
   "source": [
    "def Rotate(axis, counter, functions, theta, vertices):\n",
    "    # If the rotation is around X axis\n",
    "    if axis == \"X\":\n",
    "        rotation_matrix = [\n",
    "            [1,0,0,0],\n",
    "            [0,cos(theta),-sin(theta),0],\n",
    "            [0,sin(theta),cos(theta),0],\n",
    "            [0,0,0,1]\n",
    "        ]\n",
    "    # If the rotation is around Y axis\n",
    "    if axis == \"Y\":\n",
    "        rotation_matrix = [\n",
    "            [cos(theta),0,sin(theta),0],\n",
    "            [0,1,0,0],\n",
    "            [-sin(theta),0,cos(theta),0],\n",
    "            [0,0,0,1]\n",
    "        ]\n",
    "    # If the rotation is around Z axis\n",
    "    if axis == \"Z\":\n",
    "        rotation_matrix = [\n",
    "            [cos(theta),-sin(theta),0, 0],\n",
    "            [sin(theta),cos(theta),0,0],\n",
    "            [0,0,1,0],\n",
    "            [0,0,0,1]\n",
    "        ]\n",
    "    # Keeping track of functions for doing undo of these transformations\n",
    "    functions.append(rotation_matrix)\n",
    "    for i in range(len(vertices)):\n",
    "        vertices[i] = MultiplyMatrixCol(rotation_matrix,vertices[i])    #Transforming Each point in the space"
   ]
  },
  {
   "cell_type": "markdown",
   "metadata": {},
   "source": [
    "# Translation [along the coordinate axis]"
   ]
  },
  {
   "cell_type": "code",
   "execution_count": 20,
   "metadata": {},
   "outputs": [],
   "source": [
    "def Translate (tx, ty, tz, vertices, counter, functions):\n",
    "    translation_matrix = [\n",
    "        [1,0,0,tx],\n",
    "        [0,1,0,ty],\n",
    "        [0,0,1,tz],\n",
    "        [0,0,0,1]\n",
    "    ]\n",
    "    # Keeping track of functions for doing undo of these transformations\n",
    "    functions.append(translation_matrix)\n",
    "    for i in range(len(vertices)):\n",
    "        vertices[i] = MultiplyMatrixCol(translation_matrix,vertices[i])     #Transforming Each point in the space"
   ]
  },
  {
   "cell_type": "code",
   "execution_count": 21,
   "metadata": {},
   "outputs": [],
   "source": [
    "# Here mathematically cube is just a special case of cuboid so we can combine them\n",
    "def cuboid_opns(figNo, object_name, factors):\n",
    "    clear_output()\n",
    "    vertices = GetVertices(figNo, object_name)\n",
    "    vertices_original = vertices         #Keeping track of original vertices for restore functionality\n",
    "    edges = [\n",
    "        [0,1],\n",
    "        [0,3],\n",
    "        [0,4],\n",
    "        [2,1],\n",
    "        [2,3],\n",
    "        [2,7],\n",
    "        [6,3],\n",
    "        [6,4],\n",
    "        [6,7],\n",
    "        [5,1],\n",
    "        [5,4],\n",
    "        [5,7]\n",
    "        ]\n",
    "    operations(figNo, object_name, factors, edges, vertices)"
   ]
  },
  {
   "cell_type": "code",
   "execution_count": 22,
   "metadata": {},
   "outputs": [],
   "source": [
    "def pyramid_opns(figNo, object_name, factors):\n",
    "    clear_output()\n",
    "    vertices = GetVertices(figNo, object_name)\n",
    "    vertices_original = vertices       #Keeping track of original vertices for restore functionality\n",
    "    edges = [[0, 1], [0, 3], [2, 3], [2, 1], [0, 4], [1, 4], [2, 4], [3, 4]]\n",
    "    operations(figNo, object_name, factors, edges, vertices)"
   ]
  },
  {
   "cell_type": "markdown",
   "metadata": {},
   "source": [
    "# Displaying Coordinate Axis"
   ]
  },
  {
   "cell_type": "code",
   "execution_count": 23,
   "metadata": {},
   "outputs": [],
   "source": [
    "#Vertices for coordinate axis\n",
    "vertices_axis = [\n",
    "[-7, -7, -7,1],\n",
    "[14, -7, -7,1],\n",
    "[-7, 14, -7,1],\n",
    "[-7, -7, 14,1]\n",
    "]\n",
    "# Keeping a counter for undo opns\n",
    "#For Displaying coordinate axis on the screen\n",
    "def axis():\n",
    "    edges_axis = [\n",
    "    [0,1],\n",
    "    [0,2],\n",
    "    [0,3]\n",
    "     ]\n",
    "    glBegin(GL_LINES)\n",
    "    for edge in edges_axis:\n",
    "        for vertex in edge:\n",
    "            glVertex4fv(vertices_axis[vertex])\n",
    "    glEnd()\n",
    "    return vertices_axis"
   ]
  },
  {
   "cell_type": "markdown",
   "metadata": {},
   "source": [
    "# Handling real-time operations for object's movements"
   ]
  },
  {
   "cell_type": "code",
   "execution_count": 24,
   "metadata": {},
   "outputs": [],
   "source": [
    "def operations(figNo, object_name, factors, edges, vertices):\n",
    "    \n",
    "    #Forming Pygame Screen\n",
    "    pygame.init()\n",
    "    display = (920,740)\n",
    "    pygame.display.set_mode(display, DOUBLEBUF|OPENGL)\n",
    "    gluPerspective(75, (display[0]/display[1]), 0.1, 100.0)\n",
    "    \n",
    "    commands(object_name, factors)      #Displating Keys Instructions\n",
    "    functions = []\n",
    "    counter = 1\n",
    "    #Bringing coordinate axis and object to display screen perspective\n",
    "    Translate(-7.0,-7.0,-27.0, vertices, counter = counter, functions = functions)\n",
    "    Translate(0.0,0.0,-20.0, vertices_axis, counter = counter, functions = functions)\n",
    "    \n",
    "    functions.pop(counter)\n",
    "    \n",
    "    while True:\n",
    "        for event in pygame.event.get():\n",
    "            # Exiting the program directly\n",
    "            if event.type == pygame.QUIT:\n",
    "                clear_output()\n",
    "                pygame.quit()\n",
    "                quit()\n",
    "                exit_program()\n",
    "\n",
    "            # Mouse based Translation operations\n",
    "            if event.type == pygame.MOUSEBUTTONDOWN:\n",
    "                if event.button == 4:\n",
    "                    Translate(0.0,0.0,factors[1],vertices, counter = counter, functions = functions)\n",
    "\n",
    "                if event.button == 5:\n",
    "                    Translate(0.0,0.0,-factors[1],vertices, counter = counter, functions = functions)\n",
    "            if event.type == pygame.KEYDOWN:\n",
    "                # Key based Translation operations\n",
    "                if event.key in [pygame.K_a, pygame.K_d, pygame.K_w, pygame.K_s]:\n",
    "                    if event.key == pygame.K_a:      \n",
    "                        Translate(-factors[1],0.0,0.0,vertices, counter = counter, functions = functions)\n",
    "\n",
    "                    if event.key == pygame.K_d:\n",
    "                        Translate(factors[1],0.0,0.0,vertices, counter = counter, functions = functions)\n",
    "\n",
    "                    if event.key == pygame.K_w:\n",
    "                        Translate(0.0,factors[1],0.0,vertices, counter = counter, functions = functions)\n",
    "\n",
    "                    if event.key == pygame.K_s:\n",
    "                        Translate(0.0,-factors[1],0.0,vertices, counter = counter, functions = functions)\n",
    "                \n",
    "                # Scaling operations\n",
    "                if event.key in [pygame.K_z, pygame.K_x, pygame.K_y]:\n",
    "                    # Scaling in different directions by given scaling factor provided by the user\n",
    "                    if event.key == pygame.K_x:           \n",
    "                        Scale(factors[3],1.0,1.0,vertices, counter = counter, functions = functions)\n",
    "\n",
    "                    if event.key == pygame.K_y:\n",
    "                        Scale(1.0,factors[3],1.0,vertices, counter = counter, functions = functions)\n",
    "\n",
    "                    if event.key == pygame.K_z:\n",
    "                        Scale(1.0,1.0,factors[3],vertices, counter = counter, functions = functions)\n",
    "                        \n",
    "                # Rotation operations\n",
    "                if event.key in [pygame.K_i, pygame.K_j, pygame.K_k]:\n",
    "                    if event.key == pygame.K_i:     \n",
    "                        # Rotation around X-axis\n",
    "                        Rotate(theta = factors[0]*pi/180, vertices = vertices, counter = counter, functions = functions, axis = \"X\")\n",
    "                        # Rotation around Y-axis\n",
    "                    if event.key == pygame.K_j:\n",
    "                        Rotate(theta = factors[0]*pi/180, vertices = vertices, counter = counter, functions = functions, axis = \"Y\")\n",
    "                        # Rotation around Z-axis\n",
    "                    if event.key == pygame.K_k:\n",
    "                        Rotate(theta = factors[0]*pi/180, vertices = vertices, counter = counter, functions = functions, axis = \"Z\")\n",
    "                \n",
    "                # Mirroring operations\n",
    "                if event.key in [pygame.K_f, pygame.K_g, pygame.K_h]:\n",
    "                    if event.key == pygame.K_f:     \n",
    "                        # Reflection relative to XY plane \n",
    "                        Mirror(vertices = vertices, counter = counter, functions = functions, plane = \"XY\")\n",
    "                    if event.key == pygame.K_g:\n",
    "                        # Reflection relative to YZ plane \n",
    "                        Mirror(vertices = vertices, counter = counter, functions = functions, plane = \"YZ\")\n",
    "                    if event.key == pygame.K_h:\n",
    "                        # Reflection relative to YZ plane \n",
    "                        Mirror(vertices = vertices, counter = counter, functions = functions, plane = \"ZX\")\n",
    "                        \n",
    "                # Shearing operation\n",
    "                if event.key in [pygame.K_b, pygame.K_n, pygame.K_m]:\n",
    "                    if event.key == pygame.K_b:     \n",
    "                        # Shearing around X-axis\n",
    "                        Shear(shx = factors[2],shy = factors[2],shz = factors[2],vertices = vertices, counter = counter, functions = functions, axis = \"X\")\n",
    "                        # Shearing around Y-axis\n",
    "                    if event.key == pygame.K_n:\n",
    "                        Shear(shx = factors[2],shy = factors[2],shz = factors[2],vertices = vertices, counter = counter, functions = functions, axis = \"Y\")\n",
    "                        # Shearing around Z-axis\n",
    "                    if event.key == pygame.K_m:\n",
    "                        Shear(shx = factors[2],shy = factors[2],shz = factors[2],vertices = vertices, counter = counter, functions = functions, axis = \"Z\")\n",
    "            \n",
    "                # A test of SVD's implementation\n",
    "                if event.key == pygame.K_q:\n",
    "                    # Applying the V Transpose matrix to the vertices\n",
    "                    glClear(GL_COLOR_BUFFER_BIT|GL_DEPTH_BUFFER_BIT)\n",
    "                    svd(vertices = vertices, counter = counter, functions = functions, matrix = \"V_t\")\n",
    "                    Object(edges, vertices, figNo)\n",
    "                    axis()\n",
    "                    pygame.display.flip()\n",
    "                    time.sleep(2)\n",
    "                    # Applying the Sigma matrix to the vertices\n",
    "                    svd(vertices = vertices, counter = counter, functions = functions, matrix = \"S\")\n",
    "                    glClear(GL_COLOR_BUFFER_BIT|GL_DEPTH_BUFFER_BIT)\n",
    "                    Object(edges, vertices, figNo)\n",
    "                    axis()\n",
    "                    pygame.display.flip()\n",
    "                    time.sleep(2)\n",
    "                    # Applying the U matrix to the vertices\n",
    "                    svd(vertices = vertices, counter = counter, functions = functions, matrix = \"U\")\n",
    "                \n",
    "                # For undoing a linear transformation applied before\n",
    "                if event.key == pygame.K_u:\n",
    "                    undo(counter, functions, vertices)\n",
    "                        \n",
    "                # For complete restoration of the object to it's initial state       \n",
    "                if event.key == pygame.K_r:\n",
    "                    while len(functions) != 1:\n",
    "                        undo(counter, functions, vertices)\n",
    "                    print(\"No more Restoration operations can be done\")\n",
    "                    \n",
    "                # For quiting the program via escape key\n",
    "                if event.key == pygame.K_ESCAPE:\n",
    "                    clear_output()\n",
    "                    pygame.quit()\n",
    "                    quit()\n",
    "                    exit_program()\n",
    "                    return\n",
    "\n",
    "        #used for clearing output on the screen\n",
    "        #Forms object\n",
    "        glClear(GL_COLOR_BUFFER_BIT|GL_DEPTH_BUFFER_BIT)\n",
    "        Object(edges, vertices, figNo)\n",
    "        # Displaying the axis\n",
    "        axis()\n",
    "        #Displays object on the screen\n",
    "        pygame.display.flip()"
   ]
  },
  {
   "cell_type": "code",
   "execution_count": 25,
   "metadata": {},
   "outputs": [
    {
     "name": "stdout",
     "output_type": "stream",
     "text": [
      "Welcome to our project of simulation of movement 3D objects with the help of Homogenous coordinates\n",
      "        1. Let's Play\n",
      "        2. Exit\n",
      "        \n",
      "        Enter your choice: 2\n",
      "We hope you liked our program and we wish to see you soon. Have a nice day!\n"
     ]
    }
   ],
   "source": [
    "gui()"
   ]
  }
 ],
 "metadata": {
  "kernelspec": {
   "display_name": "Python 3",
   "language": "python",
   "name": "python3"
  },
  "language_info": {
   "codemirror_mode": {
    "name": "ipython",
    "version": 3
   },
   "file_extension": ".py",
   "mimetype": "text/x-python",
   "name": "python",
   "nbconvert_exporter": "python",
   "pygments_lexer": "ipython3",
   "version": "3.7.6"
  }
 },
 "nbformat": 4,
 "nbformat_minor": 4
}
